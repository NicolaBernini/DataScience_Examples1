{
  "nbformat": 4,
  "nbformat_minor": 0,
  "metadata": {
    "colab": {
      "name": "Test_WordCounting1.ipynb",
      "version": "0.3.2",
      "provenance": []
    },
    "kernelspec": {
      "name": "python3",
      "display_name": "Python 3"
    }
  },
  "cells": [
    {
      "metadata": {
        "id": "0dDVj6Fi9sqk",
        "colab_type": "text"
      },
      "cell_type": "markdown",
      "source": [
        "\n",
        "# Overview \n",
        "\n",
        "Let's compute the Median Length of Words in random text like [here](http://generator.lorem-ipsum.info/) using numpy \n",
        "\n"
      ]
    },
    {
      "metadata": {
        "id": "x2h6r1Z_-Hi2",
        "colab_type": "code",
        "colab": {}
      },
      "cell_type": "code",
      "source": [
        "import numpy as np\n",
        "import matplotlib.pyplot as plt"
      ],
      "execution_count": 0,
      "outputs": []
    },
    {
      "metadata": {
        "id": "lWGNdrxu9DA7",
        "colab_type": "code",
        "colab": {}
      },
      "cell_type": "code",
      "source": [
        "\n",
        "# Dataset \n",
        "\n",
        "data = \"\"\"\n",
        "Lorem ipsum is a pseudo-Latin text used in web design, typography, layout, and printing in place of English to emphasise design elements over content. It's also called placeholder (or filler) text. It's a convenient tool for mock-ups. It helps to outline the visual elements of a document or presentation, eg typography, font, or layout. Lorem ipsum is mostly a part of a Latin text by the classical author and philosopher Cicero. Its words and letters have been changed by addition or removal, so to deliberately render its content nonsensical; it's not genuine, correct, or comprehensible Latin anymore. While lorem ipsum's still resembles classical Latin, it actually has no meaning whatsoever. As Cicero's text doesn't contain the letters K, W, or Z, alien to latin, these, and others are often inserted randomly to mimic the typographic appearence of European languages, as are digraphs not to be found in the original.\n",
        "\"\"\"\n",
        "\n"
      ],
      "execution_count": 0,
      "outputs": []
    },
    {
      "metadata": {
        "id": "g1p7xDfW9mdM",
        "colab_type": "code",
        "colab": {}
      },
      "cell_type": "code",
      "source": [
        "\n",
        "words = data.split()\n"
      ],
      "execution_count": 0,
      "outputs": []
    },
    {
      "metadata": {
        "id": "2Nsb9r8i_9sC",
        "colab_type": "code",
        "outputId": "a7ca308a-ca60-48ed-d5cf-88adb72786b3",
        "colab": {
          "base_uri": "https://localhost:8080/",
          "height": 2550
        }
      },
      "cell_type": "code",
      "source": [
        "words"
      ],
      "execution_count": 3,
      "outputs": [
        {
          "output_type": "execute_result",
          "data": {
            "text/plain": [
              "['Lorem',\n",
              " 'ipsum',\n",
              " 'is',\n",
              " 'a',\n",
              " 'pseudo-Latin',\n",
              " 'text',\n",
              " 'used',\n",
              " 'in',\n",
              " 'web',\n",
              " 'design,',\n",
              " 'typography,',\n",
              " 'layout,',\n",
              " 'and',\n",
              " 'printing',\n",
              " 'in',\n",
              " 'place',\n",
              " 'of',\n",
              " 'English',\n",
              " 'to',\n",
              " 'emphasise',\n",
              " 'design',\n",
              " 'elements',\n",
              " 'over',\n",
              " 'content.',\n",
              " \"It's\",\n",
              " 'also',\n",
              " 'called',\n",
              " 'placeholder',\n",
              " '(or',\n",
              " 'filler)',\n",
              " 'text.',\n",
              " \"It's\",\n",
              " 'a',\n",
              " 'convenient',\n",
              " 'tool',\n",
              " 'for',\n",
              " 'mock-ups.',\n",
              " 'It',\n",
              " 'helps',\n",
              " 'to',\n",
              " 'outline',\n",
              " 'the',\n",
              " 'visual',\n",
              " 'elements',\n",
              " 'of',\n",
              " 'a',\n",
              " 'document',\n",
              " 'or',\n",
              " 'presentation,',\n",
              " 'eg',\n",
              " 'typography,',\n",
              " 'font,',\n",
              " 'or',\n",
              " 'layout.',\n",
              " 'Lorem',\n",
              " 'ipsum',\n",
              " 'is',\n",
              " 'mostly',\n",
              " 'a',\n",
              " 'part',\n",
              " 'of',\n",
              " 'a',\n",
              " 'Latin',\n",
              " 'text',\n",
              " 'by',\n",
              " 'the',\n",
              " 'classical',\n",
              " 'author',\n",
              " 'and',\n",
              " 'philosopher',\n",
              " 'Cicero.',\n",
              " 'Its',\n",
              " 'words',\n",
              " 'and',\n",
              " 'letters',\n",
              " 'have',\n",
              " 'been',\n",
              " 'changed',\n",
              " 'by',\n",
              " 'addition',\n",
              " 'or',\n",
              " 'removal,',\n",
              " 'so',\n",
              " 'to',\n",
              " 'deliberately',\n",
              " 'render',\n",
              " 'its',\n",
              " 'content',\n",
              " 'nonsensical;',\n",
              " \"it's\",\n",
              " 'not',\n",
              " 'genuine,',\n",
              " 'correct,',\n",
              " 'or',\n",
              " 'comprehensible',\n",
              " 'Latin',\n",
              " 'anymore.',\n",
              " 'While',\n",
              " 'lorem',\n",
              " \"ipsum's\",\n",
              " 'still',\n",
              " 'resembles',\n",
              " 'classical',\n",
              " 'Latin,',\n",
              " 'it',\n",
              " 'actually',\n",
              " 'has',\n",
              " 'no',\n",
              " 'meaning',\n",
              " 'whatsoever.',\n",
              " 'As',\n",
              " \"Cicero's\",\n",
              " 'text',\n",
              " \"doesn't\",\n",
              " 'contain',\n",
              " 'the',\n",
              " 'letters',\n",
              " 'K,',\n",
              " 'W,',\n",
              " 'or',\n",
              " 'Z,',\n",
              " 'alien',\n",
              " 'to',\n",
              " 'latin,',\n",
              " 'these,',\n",
              " 'and',\n",
              " 'others',\n",
              " 'are',\n",
              " 'often',\n",
              " 'inserted',\n",
              " 'randomly',\n",
              " 'to',\n",
              " 'mimic',\n",
              " 'the',\n",
              " 'typographic',\n",
              " 'appearence',\n",
              " 'of',\n",
              " 'European',\n",
              " 'languages,',\n",
              " 'as',\n",
              " 'are',\n",
              " 'digraphs',\n",
              " 'not',\n",
              " 'to',\n",
              " 'be',\n",
              " 'found',\n",
              " 'in',\n",
              " 'the',\n",
              " 'original.']"
            ]
          },
          "metadata": {
            "tags": []
          },
          "execution_count": 3
        }
      ]
    },
    {
      "metadata": {
        "id": "GGRHq-tk94hm",
        "colab_type": "code",
        "colab": {}
      },
      "cell_type": "code",
      "source": [
        "# NOTE: Build a Function to be applied to the vector of words \n",
        "mylen = np.vectorize(len)\n"
      ],
      "execution_count": 0,
      "outputs": []
    },
    {
      "metadata": {
        "id": "G5oXoSYP95EF",
        "colab_type": "code",
        "colab": {}
      },
      "cell_type": "code",
      "source": [
        "# NOTE: Build the vector of words length\n",
        "words_length = mylen(words)\n"
      ],
      "execution_count": 0,
      "outputs": []
    },
    {
      "metadata": {
        "id": "IwUjzaRJ-P4X",
        "colab_type": "code",
        "outputId": "4d1c2c36-d473-4157-aca7-dd406c1b23b0",
        "colab": {
          "base_uri": "https://localhost:8080/",
          "height": 170
        }
      },
      "cell_type": "code",
      "source": [
        "words_length"
      ],
      "execution_count": 8,
      "outputs": [
        {
          "output_type": "execute_result",
          "data": {
            "text/plain": [
              "array([ 5,  5,  2,  1, 12,  4,  4,  2,  3,  7, 11,  7,  3,  8,  2,  5,  2,\n",
              "        7,  2,  9,  6,  8,  4,  8,  4,  4,  6, 11,  3,  7,  5,  4,  1, 10,\n",
              "        4,  3,  9,  2,  5,  2,  7,  3,  6,  8,  2,  1,  8,  2, 13,  2, 11,\n",
              "        5,  2,  7,  5,  5,  2,  6,  1,  4,  2,  1,  5,  4,  2,  3,  9,  6,\n",
              "        3, 11,  7,  3,  5,  3,  7,  4,  4,  7,  2,  8,  2,  8,  2,  2, 12,\n",
              "        6,  3,  7, 12,  4,  3,  8,  8,  2, 14,  5,  8,  5,  5,  7,  5,  9,\n",
              "        9,  6,  2,  8,  3,  2,  7, 11,  2,  8,  4,  7,  7,  3,  7,  2,  2,\n",
              "        2,  2,  5,  2,  6,  6,  3,  6,  3,  5,  8,  8,  2,  5,  3, 11, 10,\n",
              "        2,  8, 10,  2,  3,  8,  3,  2,  2,  5,  2,  3,  9])"
            ]
          },
          "metadata": {
            "tags": []
          },
          "execution_count": 8
        }
      ]
    },
    {
      "metadata": {
        "id": "Ln-ErNoj-mMJ",
        "colab_type": "code",
        "outputId": "6f0d9dac-c896-4644-854f-693b0e9f4b82",
        "colab": {
          "base_uri": "https://localhost:8080/",
          "height": 398
        }
      },
      "cell_type": "code",
      "source": [
        "# NOTE: Plot the words length Histogram \n",
        "plt.hist(words_length)\n"
      ],
      "execution_count": 9,
      "outputs": [
        {
          "output_type": "execute_result",
          "data": {
            "text/plain": [
              "(array([38., 19., 13., 28., 15., 16.,  9.,  6.,  3.,  2.]),\n",
              " array([ 1. ,  2.3,  3.6,  4.9,  6.2,  7.5,  8.8, 10.1, 11.4, 12.7, 14. ]),\n",
              " <a list of 10 Patch objects>)"
            ]
          },
          "metadata": {
            "tags": []
          },
          "execution_count": 9
        },
        {
          "output_type": "display_data",
          "data": {
            "image/png": "[encoded data removed]",
            "text/plain": [
              "<matplotlib.figure.Figure at 0x7f730cb2da58>"
            ]
          },
          "metadata": {
            "tags": []
          }
        }
      ]
    },
    {
      "metadata": {
        "id": "-P7kDdcH-zeI",
        "colab_type": "code",
        "outputId": "4aa0c574-354b-4717-a9f1-5815d395cc25",
        "colab": {
          "base_uri": "https://localhost:8080/",
          "height": 34
        }
      },
      "cell_type": "code",
      "source": [
        "# NOTE: Compute the median \n",
        "np.median(words_length)"
      ],
      "execution_count": 11,
      "outputs": [
        {
          "output_type": "execute_result",
          "data": {
            "text/plain": [
              "5.0"
            ]
          },
          "metadata": {
            "tags": []
          },
          "execution_count": 11
        }
      ]
    },
    {
      "metadata": {
        "id": "GgpfEvyo_sDD",
        "colab_type": "code",
        "colab": {}
      },
      "cell_type": "code",
      "source": [
        ""
      ],
      "execution_count": 0,
      "outputs": []
    }
  ]
}
