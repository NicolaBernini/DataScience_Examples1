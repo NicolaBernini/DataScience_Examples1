{
  "nbformat": 4,
  "nbformat_minor": 0,
  "metadata": {
    "colab": {
      "name": "Test_Flask3.ipynb",
      "version": "0.3.2",
      "provenance": []
    },
    "kernelspec": {
      "name": "python3",
      "display_name": "Python 3"
    }
  },
  "cells": [
    {
      "metadata": {
        "id": "vCS3KLS3qKRn",
        "colab_type": "code",
        "colab": {}
      },
      "cell_type": "code",
      "source": [
        "import os\n",
        "import subprocess\n",
        "import sys\n",
        "import time\n",
        "import threading \n"
      ],
      "execution_count": 0,
      "outputs": []
    },
    {
      "metadata": {
        "id": "AuNpNbCPpxez",
        "colab_type": "code",
        "colab": {
          "base_uri": "https://localhost:8080/",
          "height": 34
        },
        "outputId": "30255cc8-0eb4-4098-81ea-844e25110141"
      },
      "cell_type": "code",
      "source": [
        "%%writefile server.py\n",
        "from flask import Flask\n",
        "app = Flask(\"test\")\n",
        "\n",
        "@app.route('/')\n",
        "def hello_world(): \n",
        "  return \"Hello World\""
      ],
      "execution_count": 8,
      "outputs": [
        {
          "output_type": "stream",
          "text": [
            "Overwriting server.py\n"
          ],
          "name": "stdout"
        }
      ]
    },
    {
      "metadata": {
        "id": "Ukoe8SMFqNGy",
        "colab_type": "code",
        "colab": {
          "base_uri": "https://localhost:8080/",
          "height": 118
        },
        "outputId": "2c8a7937-45ef-4ccc-fcf3-8037603e39d4"
      },
      "cell_type": "code",
      "source": [
        "# Found here \n",
        "# https://parselmouth.readthedocs.io/en/latest/examples/web_service.html\n",
        "\n",
        "def forward(i, o):\n",
        "    while p.poll() is None:\n",
        "        l = i.readline().decode('utf-8')\n",
        "        if l:\n",
        "            o.write(\"[SERVER] \" + l)\n",
        "\n",
        "            \n",
        "# Start a subprocess that runs the Flask server\n",
        "p = subprocess.Popen([sys.executable, \"-m\", \"flask\", \"run\"], env=dict(**os.environ, FLASK_APP=\"server.py\"), stdout=subprocess.PIPE, stderr=subprocess.PIPE)\n",
        "# Start two subthreads that forward the output from the Flask server to the output of the Jupyter notebook\n",
        "threading.Thread(target=forward, args=(p.stdout, sys.stdout)).start()\n",
        "threading.Thread(target=forward, args=(p.stderr, sys.stderr)).start()\n",
        "# Let's give the server a bit of time to make sure it has started\n",
        "time.sleep(2)\n",
        "\n",
        "  "
      ],
      "execution_count": 9,
      "outputs": [
        {
          "output_type": "stream",
          "text": [
            "[SERVER]  * Serving Flask app \"server.py\"\n",
            "[SERVER]  * Environment: production\n",
            "[SERVER]    WARNING: Do not use the development server in a production environment.\n",
            "[SERVER]    Use a production WSGI server instead.\n",
            "[SERVER]  * Debug mode: off\n"
          ],
          "name": "stdout"
        },
        {
          "output_type": "stream",
          "text": [
            "[SERVER]  * Running on http://127.0.0.1:5000/ (Press CTRL+C to quit)\n"
          ],
          "name": "stderr"
        }
      ]
    },
    {
      "metadata": {
        "id": "wjlCM_RnqQGf",
        "colab_type": "code",
        "colab": {
          "base_uri": "https://localhost:8080/",
          "height": 50
        },
        "outputId": "43a7da17-5d90-404c-a430-754c99b8c596"
      },
      "cell_type": "code",
      "source": [
        "!curl 127.0.0.1:5000"
      ],
      "execution_count": 10,
      "outputs": [
        {
          "output_type": "stream",
          "text": [
            "[SERVER] 127.0.0.1 - - [09/Feb/2019 19:10:04] \"\u001b[37mGET / HTTP/1.1\u001b[0m\" 200 -\n"
          ],
          "name": "stderr"
        },
        {
          "output_type": "stream",
          "text": [
            "Hello World"
          ],
          "name": "stdout"
        }
      ]
    },
    {
      "metadata": {
        "id": "XkUbhvfbqosj",
        "colab_type": "code",
        "colab": {}
      },
      "cell_type": "code",
      "source": [
        ""
      ],
      "execution_count": 0,
      "outputs": []
    }
  ]
}
