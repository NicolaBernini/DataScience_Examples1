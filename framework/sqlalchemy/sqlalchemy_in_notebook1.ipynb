{
  "nbformat": 4,
  "nbformat_minor": 0,
  "metadata": {
    "colab": {
      "name": "Test_SQLAlchemy3_Published.ipynb",
      "version": "0.3.2",
      "provenance": [],
      "collapsed_sections": []
    },
    "kernelspec": {
      "name": "python3",
      "display_name": "Python 3"
    }
  },
  "cells": [
    {
      "metadata": {
        "id": "TpdaQzkhwpHH",
        "colab_type": "text"
      },
      "cell_type": "markdown",
      "source": [
        "\n",
        "# Overview \n",
        "\n",
        "## Introduction \n",
        "\n",
        "- SQLAlchemy is a library providing API to perform Object Relational Mapping (ORM) in an easy and powerful way \n",
        "\n",
        "| Programming Language | DB | \n",
        "| --- | --- | \n",
        "| Class | Table | \n",
        "| Instance | Row | \n",
        "\n",
        "## Advantages \n",
        "\n",
        "- Decouple business logic, centered around the objects defined by the programmer, and storage logic, focused on schemas and transactions\n",
        "- Reduce business logic complexity \n",
        "\n",
        "## Main Elements \n",
        "\n",
        "- Engine: manages actual backend specific storage (file, memory, …) and search mechanisms\n",
        "- Session: manages the interaction with the engine abstracting away the transactions model\n",
        "\n",
        "\n",
        "\n"
      ]
    },
    {
      "metadata": {
        "id": "mrQCrEZgswFu",
        "colab_type": "code",
        "outputId": "3920cab5-bf9a-4256-b1e2-2196743fa10e",
        "colab": {
          "base_uri": "https://localhost:8080/",
          "height": 34
        }
      },
      "cell_type": "code",
      "source": [
        "import sqlalchemy\n",
        "sqlalchemy.__version__ \n"
      ],
      "execution_count": 1,
      "outputs": [
        {
          "output_type": "execute_result",
          "data": {
            "text/plain": [
              "'1.2.17'"
            ]
          },
          "metadata": {
            "tags": []
          },
          "execution_count": 1
        }
      ]
    },
    {
      "metadata": {
        "id": "BYwU3BYks7Up",
        "colab_type": "code",
        "colab": {}
      },
      "cell_type": "code",
      "source": [
        "from sqlalchemy import create_engine\n",
        "from sqlalchemy.ext.declarative import declarative_base\n",
        "from sqlalchemy import Column, Integer, String\n",
        "\n",
        "from sqlalchemy.orm import sessionmaker\n"
      ],
      "execution_count": 0,
      "outputs": []
    },
    {
      "metadata": {
        "id": "zEGy0b0ywvo3",
        "colab_type": "text"
      },
      "cell_type": "markdown",
      "source": [
        "\n",
        "# Engine Construction \n",
        "\n",
        "- It manages the Backend Storage \n"
      ]
    },
    {
      "metadata": {
        "id": "4Z3NBnMItz0n",
        "colab_type": "code",
        "colab": {}
      },
      "cell_type": "code",
      "source": [
        "\n",
        "#engine = create_engine('sqlite:///:memory:', echo=True)\n",
        "engine = create_engine('sqlite:////tmp/test.db', echo=True)\n"
      ],
      "execution_count": 0,
      "outputs": []
    },
    {
      "metadata": {
        "id": "p8xAwL9Tw0PH",
        "colab_type": "text"
      },
      "cell_type": "markdown",
      "source": [
        "\n",
        "# Session Construction \n",
        "\n",
        "- It manages the Connection with the Engine \n",
        "\n"
      ]
    },
    {
      "metadata": {
        "id": "eXCHxbfFw7bw",
        "colab_type": "code",
        "colab": {}
      },
      "cell_type": "code",
      "source": [
        "Session = sessionmaker(bind=engine)"
      ],
      "execution_count": 0,
      "outputs": []
    },
    {
      "metadata": {
        "id": "E6b8a2IbxADh",
        "colab_type": "code",
        "colab": {}
      },
      "cell_type": "code",
      "source": [
        "session = Session()"
      ],
      "execution_count": 0,
      "outputs": []
    },
    {
      "metadata": {
        "id": "XrfhaAvcxCVZ",
        "colab_type": "text"
      },
      "cell_type": "markdown",
      "source": [
        "\n",
        "# Objects Definition \n",
        "\n",
        "- It creates some Objects Structure, performs Instantation and then Sends to Engine \n"
      ]
    },
    {
      "metadata": {
        "id": "gJhq31URvHI2",
        "colab_type": "code",
        "colab": {}
      },
      "cell_type": "code",
      "source": [
        "Base = declarative_base()"
      ],
      "execution_count": 0,
      "outputs": []
    },
    {
      "metadata": {
        "id": "Il30LLHgt0N2",
        "colab_type": "code",
        "colab": {}
      },
      "cell_type": "code",
      "source": [
        "class User(Base):\n",
        "  __tablename__ = 'users'\n",
        "\n",
        "  id = Column(Integer, primary_key=True)\n",
        "  name = Column(String)\n",
        "  fullname = Column(String)\n",
        "  nickname = Column(String)\n",
        "\n",
        "  def __repr__(self):\n",
        "    return \"<User(name='%s', fullname='%s', nickname='%s')>\" % (self.name, self.fullname, self.nickname)\n"
      ],
      "execution_count": 0,
      "outputs": []
    },
    {
      "metadata": {
        "id": "dnLSD7Sit11u",
        "colab_type": "code",
        "outputId": "60fc173b-bc9c-4c70-e244-a45ee1807f74",
        "colab": {
          "base_uri": "https://localhost:8080/",
          "height": 54
        }
      },
      "cell_type": "code",
      "source": [
        "User.__table__"
      ],
      "execution_count": 8,
      "outputs": [
        {
          "output_type": "execute_result",
          "data": {
            "text/plain": [
              "Table('users', MetaData(bind=None), Column('id', Integer(), table=<users>, primary_key=True, nullable=False), Column('name', String(), table=<users>), Column('fullname', String(), table=<users>), Column('nickname', String(), table=<users>), schema=None)"
            ]
          },
          "metadata": {
            "tags": []
          },
          "execution_count": 8
        }
      ]
    },
    {
      "metadata": {
        "id": "t5iB99Qh6PBN",
        "colab_type": "code",
        "outputId": "f575302d-9511-4ac3-86b0-b4c0d2a27c33",
        "colab": {
          "base_uri": "https://localhost:8080/",
          "height": 119
        }
      },
      "cell_type": "code",
      "source": [
        "Base.metadata.create_all(engine)"
      ],
      "execution_count": 9,
      "outputs": [
        {
          "output_type": "stream",
          "text": [
            "2019-02-12 14:26:03,031 INFO sqlalchemy.engine.base.Engine SELECT CAST('test plain returns' AS VARCHAR(60)) AS anon_1\n",
            "2019-02-12 14:26:03,032 INFO sqlalchemy.engine.base.Engine ()\n",
            "2019-02-12 14:26:03,037 INFO sqlalchemy.engine.base.Engine SELECT CAST('test unicode returns' AS VARCHAR(60)) AS anon_1\n",
            "2019-02-12 14:26:03,039 INFO sqlalchemy.engine.base.Engine ()\n",
            "2019-02-12 14:26:03,042 INFO sqlalchemy.engine.base.Engine PRAGMA table_info(\"users\")\n",
            "2019-02-12 14:26:03,043 INFO sqlalchemy.engine.base.Engine ()\n"
          ],
          "name": "stdout"
        }
      ]
    },
    {
      "metadata": {
        "id": "uxD7pTNt6Pfl",
        "colab_type": "text"
      },
      "cell_type": "markdown",
      "source": [
        "\n",
        "# Creating an Instance \n"
      ]
    },
    {
      "metadata": {
        "id": "W-q6MnnOvg8o",
        "colab_type": "code",
        "colab": {}
      },
      "cell_type": "code",
      "source": [
        "#test_user = User(name='Test', fullname='This is a test', nickname='test1')"
      ],
      "execution_count": 0,
      "outputs": []
    },
    {
      "metadata": {
        "id": "vZGjIYytyOk5",
        "colab_type": "text"
      },
      "cell_type": "markdown",
      "source": [
        "\n",
        "# Storage Test\n",
        "\n",
        "- It works by adding elements to a command queue and a commit then flushes them \n"
      ]
    },
    {
      "metadata": {
        "id": "Ze0LAQ2dvmuI",
        "colab_type": "code",
        "colab": {}
      },
      "cell_type": "code",
      "source": [
        "session.add(User(name='Test1', fullname='This is a test1', nickname='test1'))\n",
        "session.add(User(name='Test3', fullname='This is a test3', nickname='test3'))\n"
      ],
      "execution_count": 0,
      "outputs": []
    },
    {
      "metadata": {
        "id": "qL4U0EZiy_3M",
        "colab_type": "code",
        "outputId": "0ebe394d-2b3f-4981-b0a3-ee15fb2eb4be",
        "colab": {
          "base_uri": "https://localhost:8080/",
          "height": 119
        }
      },
      "cell_type": "code",
      "source": [
        "session.commit()"
      ],
      "execution_count": 12,
      "outputs": [
        {
          "output_type": "stream",
          "text": [
            "2019-02-12 14:26:03,183 INFO sqlalchemy.engine.base.Engine BEGIN (implicit)\n",
            "2019-02-12 14:26:03,187 INFO sqlalchemy.engine.base.Engine INSERT INTO users (name, fullname, nickname) VALUES (?, ?, ?)\n",
            "2019-02-12 14:26:03,188 INFO sqlalchemy.engine.base.Engine ('Test1', 'This is a test1', 'test1')\n",
            "2019-02-12 14:26:03,191 INFO sqlalchemy.engine.base.Engine INSERT INTO users (name, fullname, nickname) VALUES (?, ?, ?)\n",
            "2019-02-12 14:26:03,193 INFO sqlalchemy.engine.base.Engine ('Test3', 'This is a test3', 'test3')\n",
            "2019-02-12 14:26:03,197 INFO sqlalchemy.engine.base.Engine COMMIT\n"
          ],
          "name": "stdout"
        }
      ]
    },
    {
      "metadata": {
        "id": "7lHk_9lsyQcQ",
        "colab_type": "text"
      },
      "cell_type": "markdown",
      "source": [
        "\n",
        "# Query Test \n"
      ]
    },
    {
      "metadata": {
        "id": "0L1NauTCGFYA",
        "colab_type": "text"
      },
      "cell_type": "markdown",
      "source": [
        "\n",
        "## Existing Element\n"
      ]
    },
    {
      "metadata": {
        "id": "T62c0Ea3vobR",
        "colab_type": "code",
        "outputId": "0f54a38c-9fb7-4349-a81b-6f0d61c22bb5",
        "colab": {
          "base_uri": "https://localhost:8080/",
          "height": 119
        }
      },
      "cell_type": "code",
      "source": [
        "query_result1 = session.query(User).filter_by(name='Test1').first() "
      ],
      "execution_count": 13,
      "outputs": [
        {
          "output_type": "stream",
          "text": [
            "2019-02-12 14:26:03,221 INFO sqlalchemy.engine.base.Engine BEGIN (implicit)\n",
            "2019-02-12 14:26:03,224 INFO sqlalchemy.engine.base.Engine SELECT users.id AS users_id, users.name AS users_name, users.fullname AS users_fullname, users.nickname AS users_nickname \n",
            "FROM users \n",
            "WHERE users.name = ?\n",
            " LIMIT ? OFFSET ?\n",
            "2019-02-12 14:26:03,226 INFO sqlalchemy.engine.base.Engine ('Test1', 1, 0)\n"
          ],
          "name": "stdout"
        }
      ]
    },
    {
      "metadata": {
        "id": "83yv-jIqyRq4",
        "colab_type": "code",
        "colab": {
          "base_uri": "https://localhost:8080/",
          "height": 34
        },
        "outputId": "98cc1a5e-15d7-4667-d8b5-65bc82e6ad70"
      },
      "cell_type": "code",
      "source": [
        "# NOTE: Its representing is what was defined in __repr__() method \n",
        "query_result1"
      ],
      "execution_count": 14,
      "outputs": [
        {
          "output_type": "execute_result",
          "data": {
            "text/plain": [
              "<User(name='Test1', fullname='This is a test1', nickname='test1')>"
            ]
          },
          "metadata": {
            "tags": []
          },
          "execution_count": 14
        }
      ]
    },
    {
      "metadata": {
        "id": "OzjwAVe7GN94",
        "colab_type": "text"
      },
      "cell_type": "markdown",
      "source": [
        "\n",
        "## Empty Result\n"
      ]
    },
    {
      "metadata": {
        "id": "UZ4DtbaxFWL7",
        "colab_type": "code",
        "colab": {
          "base_uri": "https://localhost:8080/",
          "height": 102
        },
        "outputId": "bee93152-1deb-4be6-db2d-3e6127c036b7"
      },
      "cell_type": "code",
      "source": [
        "query_result2 = session.query(User).filter_by(name='Test2').first() "
      ],
      "execution_count": 15,
      "outputs": [
        {
          "output_type": "stream",
          "text": [
            "2019-02-12 14:26:03,261 INFO sqlalchemy.engine.base.Engine SELECT users.id AS users_id, users.name AS users_name, users.fullname AS users_fullname, users.nickname AS users_nickname \n",
            "FROM users \n",
            "WHERE users.name = ?\n",
            " LIMIT ? OFFSET ?\n",
            "2019-02-12 14:26:03,262 INFO sqlalchemy.engine.base.Engine ('Test2', 1, 0)\n"
          ],
          "name": "stdout"
        }
      ]
    },
    {
      "metadata": {
        "id": "06GNdBy2GXpJ",
        "colab_type": "code",
        "colab": {}
      },
      "cell_type": "code",
      "source": [
        "query_result2"
      ],
      "execution_count": 0,
      "outputs": []
    }
  ]
}
